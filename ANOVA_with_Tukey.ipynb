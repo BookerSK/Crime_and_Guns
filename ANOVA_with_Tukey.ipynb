{
 "cells": [
  {
   "cell_type": "markdown",
   "id": "5936dc99-1ef4-44ac-92b7-24d33f00b190",
   "metadata": {},
   "source": [
    "## Crime and Guns: Gun laws and policies affect crime in 2025 or not?"
   ]
  },
  {
   "cell_type": "markdown",
   "id": "27ef2d72-85ec-46aa-ab22-f94263127b85",
   "metadata": {},
   "source": [
    "We'll use the table from Wikipedia:\n",
    "https://en.wikipedia.org/wiki/Overview_of_gun_laws_by_nation\n",
    "and from \n",
    "https://worldpopulationreview.com/country-rankings/crime-rate-by-country"
   ]
  },
  {
   "cell_type": "code",
   "execution_count": 189,
   "id": "7d4a39c3-6945-4eeb-8770-f3057941e246",
   "metadata": {},
   "outputs": [],
   "source": [
    "import requests\n",
    "import pandas as pd\n",
    "from io import StringIO\n",
    "import numpy as np\n",
    "import statsmodels.formula.api as smf\n",
    "import statsmodels.stats.multicomp as multi "
   ]
  },
  {
   "cell_type": "markdown",
   "id": "cfb2b2d9-d755-49f0-9321-06674c2523ce",
   "metadata": {},
   "source": [
    "This part saves the html to acces the same data listed in the notebook"
   ]
  },
  {
   "cell_type": "code",
   "execution_count": 117,
   "id": "4716cca3-abaa-4bcf-8e09-6ed50f8e1e8a",
   "metadata": {},
   "outputs": [],
   "source": [
    "url = 'https://worldpopulationreview.com/country-rankings/crime-rate-by-country'\n",
    "response = requests.get(url)\n",
    "\n",
    "with open('crime_rate.html', 'w', encoding='utf-8') as f:\n",
    "    f.write(response.text)"
   ]
  },
  {
   "cell_type": "code",
   "execution_count": 118,
   "id": "c1849190-8212-4e81-a31e-738ad3557d67",
   "metadata": {},
   "outputs": [],
   "source": [
    "url = 'https://en.wikipedia.org/wiki/Overview_of_gun_laws_by_nation'\n",
    "response = requests.get(url)\n",
    "\n",
    "with open('gun_law.html', 'w', encoding='utf-8') as f:\n",
    "    f.write(response.text)"
   ]
  },
  {
   "cell_type": "markdown",
   "id": "85221eb7-3c07-4c53-8bf4-a153fcb0a78c",
   "metadata": {},
   "source": [
    "We'll read the crime index table with pandas"
   ]
  },
  {
   "cell_type": "code",
   "execution_count": 119,
   "id": "b2ca186c-9073-41ac-89ea-7cbaeef98a5c",
   "metadata": {},
   "outputs": [
    {
     "data": {
      "text/html": [
       "<div>\n",
       "<style scoped>\n",
       "    .dataframe tbody tr th:only-of-type {\n",
       "        vertical-align: middle;\n",
       "    }\n",
       "\n",
       "    .dataframe tbody tr th {\n",
       "        vertical-align: top;\n",
       "    }\n",
       "\n",
       "    .dataframe thead th {\n",
       "        text-align: right;\n",
       "    }\n",
       "</style>\n",
       "<table border=\"1\" class=\"dataframe\">\n",
       "  <thead>\n",
       "    <tr style=\"text-align: right;\">\n",
       "      <th></th>\n",
       "      <th>Country</th>\n",
       "      <th>Crime Index</th>\n",
       "    </tr>\n",
       "  </thead>\n",
       "  <tbody>\n",
       "    <tr>\n",
       "      <th>0</th>\n",
       "      <td>Venezuela</td>\n",
       "      <td>81.2</td>\n",
       "    </tr>\n",
       "    <tr>\n",
       "      <th>1</th>\n",
       "      <td>Papua New Guinea</td>\n",
       "      <td>79.7</td>\n",
       "    </tr>\n",
       "    <tr>\n",
       "      <th>2</th>\n",
       "      <td>Afghanistan</td>\n",
       "      <td>78.3</td>\n",
       "    </tr>\n",
       "    <tr>\n",
       "      <th>3</th>\n",
       "      <td>Haiti</td>\n",
       "      <td>77.9</td>\n",
       "    </tr>\n",
       "    <tr>\n",
       "      <th>4</th>\n",
       "      <td>South Africa</td>\n",
       "      <td>75.4</td>\n",
       "    </tr>\n",
       "    <tr>\n",
       "      <th>...</th>\n",
       "      <td>...</td>\n",
       "      <td>...</td>\n",
       "    </tr>\n",
       "    <tr>\n",
       "      <th>136</th>\n",
       "      <td>Oman</td>\n",
       "      <td>19.0</td>\n",
       "    </tr>\n",
       "    <tr>\n",
       "      <th>137</th>\n",
       "      <td>Taiwan</td>\n",
       "      <td>16.7</td>\n",
       "    </tr>\n",
       "    <tr>\n",
       "      <th>138</th>\n",
       "      <td>Qatar</td>\n",
       "      <td>16.0</td>\n",
       "    </tr>\n",
       "    <tr>\n",
       "      <th>139</th>\n",
       "      <td>United Arab Emirates</td>\n",
       "      <td>15.6</td>\n",
       "    </tr>\n",
       "    <tr>\n",
       "      <th>140</th>\n",
       "      <td>Andorra</td>\n",
       "      <td>12.9</td>\n",
       "    </tr>\n",
       "  </tbody>\n",
       "</table>\n",
       "<p>141 rows × 2 columns</p>\n",
       "</div>"
      ],
      "text/plain": [
       "                  Country  Crime Index\n",
       "0               Venezuela         81.2\n",
       "1        Papua New Guinea         79.7\n",
       "2             Afghanistan         78.3\n",
       "3                   Haiti         77.9\n",
       "4            South Africa         75.4\n",
       "..                    ...          ...\n",
       "136                  Oman         19.0\n",
       "137                Taiwan         16.7\n",
       "138                 Qatar         16.0\n",
       "139  United Arab Emirates         15.6\n",
       "140               Andorra         12.9\n",
       "\n",
       "[141 rows x 2 columns]"
      ]
     },
     "execution_count": 119,
     "metadata": {},
     "output_type": "execute_result"
    }
   ],
   "source": [
    "crime_all_tables = pd.read_html('crime_rate.html')\n",
    "crime_all_tables[0].columns[2]\n",
    "crime_df = crime_all_tables[0][['Country','Crime Index (Numbeo 2024) (1-100)â\\x86\\x93']]\n",
    "crime_df.columns = ['Country','Crime Index']\n",
    "crime_df"
   ]
  },
  {
   "cell_type": "markdown",
   "id": "7905e5d7-3abb-4498-8fd6-eddb57cbbe95",
   "metadata": {},
   "source": [
    "We'll read the law regulations table with pandas"
   ]
  },
  {
   "cell_type": "code",
   "execution_count": 175,
   "id": "7167eaff-e6d6-4e28-bcc9-638d5a1710a7",
   "metadata": {},
   "outputs": [
    {
     "data": {
      "text/html": [
       "<div>\n",
       "<style scoped>\n",
       "    .dataframe tbody tr th:only-of-type {\n",
       "        vertical-align: middle;\n",
       "    }\n",
       "\n",
       "    .dataframe tbody tr th {\n",
       "        vertical-align: top;\n",
       "    }\n",
       "\n",
       "    .dataframe thead th {\n",
       "        text-align: right;\n",
       "    }\n",
       "</style>\n",
       "<table border=\"1\" class=\"dataframe\">\n",
       "  <thead>\n",
       "    <tr style=\"text-align: right;\">\n",
       "      <th></th>\n",
       "      <th>Region</th>\n",
       "      <th>Good Reason</th>\n",
       "      <th>Personal Protection</th>\n",
       "      <th>Yes for PP</th>\n",
       "      <th>Yes for GR</th>\n",
       "      <th>Yes for PP&amp;GR</th>\n",
       "    </tr>\n",
       "  </thead>\n",
       "  <tbody>\n",
       "    <tr>\n",
       "      <th>0</th>\n",
       "      <td>Afghanistan[12][law 1]</td>\n",
       "      <td>Not for shotguns and antique firearms</td>\n",
       "      <td>Restricted</td>\n",
       "      <td>0</td>\n",
       "      <td>0</td>\n",
       "      <td>00</td>\n",
       "    </tr>\n",
       "    <tr>\n",
       "      <th>1</th>\n",
       "      <td>Albania[law 2]</td>\n",
       "      <td>Yes – hunting and sport shooting</td>\n",
       "      <td>Proof of threat to life required</td>\n",
       "      <td>0</td>\n",
       "      <td>1</td>\n",
       "      <td>01</td>\n",
       "    </tr>\n",
       "    <tr>\n",
       "      <th>2</th>\n",
       "      <td>Algeria[13]</td>\n",
       "      <td>Yes – hunting (restricted)</td>\n",
       "      <td>No</td>\n",
       "      <td>0</td>\n",
       "      <td>1</td>\n",
       "      <td>01</td>\n",
       "    </tr>\n",
       "    <tr>\n",
       "      <th>3</th>\n",
       "      <td>Andorra[law 3]</td>\n",
       "      <td>No (with exceptions)Exceptions ISSF-approved p...</td>\n",
       "      <td>Yes – home defense</td>\n",
       "      <td>1</td>\n",
       "      <td>0</td>\n",
       "      <td>10</td>\n",
       "    </tr>\n",
       "    <tr>\n",
       "      <th>4</th>\n",
       "      <td>Angola[14]</td>\n",
       "      <td>Private security companies only</td>\n",
       "      <td>Private security companies only</td>\n",
       "      <td>0</td>\n",
       "      <td>0</td>\n",
       "      <td>00</td>\n",
       "    </tr>\n",
       "    <tr>\n",
       "      <th>...</th>\n",
       "      <td>...</td>\n",
       "      <td>...</td>\n",
       "      <td>...</td>\n",
       "      <td>...</td>\n",
       "      <td>...</td>\n",
       "      <td>...</td>\n",
       "    </tr>\n",
       "    <tr>\n",
       "      <th>216</th>\n",
       "      <td>Puerto Rico[law 94][154]</td>\n",
       "      <td>No</td>\n",
       "      <td>Yes</td>\n",
       "      <td>1</td>\n",
       "      <td>0</td>\n",
       "      <td>10</td>\n",
       "    </tr>\n",
       "    <tr>\n",
       "      <th>217</th>\n",
       "      <td>American Samoa</td>\n",
       "      <td>Yes – plantation protection and hunting[N 24]</td>\n",
       "      <td>No</td>\n",
       "      <td>0</td>\n",
       "      <td>1</td>\n",
       "      <td>01</td>\n",
       "    </tr>\n",
       "    <tr>\n",
       "      <th>218</th>\n",
       "      <td>Somaliland</td>\n",
       "      <td>Justification required for more than 1 gun of ...</td>\n",
       "      <td>Justification required for more than 1 gun of ...</td>\n",
       "      <td>0</td>\n",
       "      <td>0</td>\n",
       "      <td>00</td>\n",
       "    </tr>\n",
       "    <tr>\n",
       "      <th>219</th>\n",
       "      <td>U.S. Virgin Islands</td>\n",
       "      <td>Yes – farming and sport shooting</td>\n",
       "      <td>Yes (handguns only)</td>\n",
       "      <td>1</td>\n",
       "      <td>1</td>\n",
       "      <td>11</td>\n",
       "    </tr>\n",
       "    <tr>\n",
       "      <th>220</th>\n",
       "      <td>West Bank[152]</td>\n",
       "      <td>NaN</td>\n",
       "      <td>NaN</td>\n",
       "      <td>0</td>\n",
       "      <td>0</td>\n",
       "      <td>00</td>\n",
       "    </tr>\n",
       "  </tbody>\n",
       "</table>\n",
       "<p>221 rows × 6 columns</p>\n",
       "</div>"
      ],
      "text/plain": [
       "                       Region  \\\n",
       "0      Afghanistan[12][law 1]   \n",
       "1              Albania[law 2]   \n",
       "2                 Algeria[13]   \n",
       "3              Andorra[law 3]   \n",
       "4                  Angola[14]   \n",
       "..                        ...   \n",
       "216  Puerto Rico[law 94][154]   \n",
       "217            American Samoa   \n",
       "218                Somaliland   \n",
       "219       U.S. Virgin Islands   \n",
       "220            West Bank[152]   \n",
       "\n",
       "                                           Good Reason  \\\n",
       "0                Not for shotguns and antique firearms   \n",
       "1                     Yes – hunting and sport shooting   \n",
       "2                           Yes – hunting (restricted)   \n",
       "3    No (with exceptions)Exceptions ISSF-approved p...   \n",
       "4                      Private security companies only   \n",
       "..                                                 ...   \n",
       "216                                                 No   \n",
       "217      Yes – plantation protection and hunting[N 24]   \n",
       "218  Justification required for more than 1 gun of ...   \n",
       "219                   Yes – farming and sport shooting   \n",
       "220                                                NaN   \n",
       "\n",
       "                                   Personal Protection  Yes for PP  \\\n",
       "0                                           Restricted           0   \n",
       "1                     Proof of threat to life required           0   \n",
       "2                                                   No           0   \n",
       "3                                   Yes – home defense           1   \n",
       "4                      Private security companies only           0   \n",
       "..                                                 ...         ...   \n",
       "216                                                Yes           1   \n",
       "217                                                 No           0   \n",
       "218  Justification required for more than 1 gun of ...           0   \n",
       "219                                Yes (handguns only)           1   \n",
       "220                                                NaN           0   \n",
       "\n",
       "     Yes for GR Yes for PP&GR  \n",
       "0             0            00  \n",
       "1             1            01  \n",
       "2             1            01  \n",
       "3             0            10  \n",
       "4             0            00  \n",
       "..          ...           ...  \n",
       "216           0            10  \n",
       "217           1            01  \n",
       "218           0            00  \n",
       "219           1            11  \n",
       "220           0            00  \n",
       "\n",
       "[221 rows x 6 columns]"
      ]
     },
     "execution_count": 175,
     "metadata": {},
     "output_type": "execute_result"
    }
   ],
   "source": [
    "law_all_tables = pd.read_html('gun_law.html')\n",
    "\n",
    "law_df = law_all_tables[0][['Region','Good reason']][:-1].copy()\n",
    "law_df.columns = ['Region','Good Reason','Personal Protection']\n",
    "\n",
    "def is_yes(string):\n",
    "    if 'yes' in str(string).lower():\n",
    "        return 1\n",
    "    else:\n",
    "        return 0\n",
    "law_df['Yes for PP'] = law_df['Personal Protection'].apply(is_yes)\n",
    "law_df['Yes for GR'] = law_df['Good Reason'].apply(is_yes)\n",
    "law_df['Yes for PP&GR'] = law_df['Yes for PP'].astype(str)+law_df['Yes for GR'].astype(str)\n",
    "law_df['Yes for PP&GR'] = law_df['Yes for PP&GR'].astype(str)\n",
    "law_df"
   ]
  },
  {
   "cell_type": "markdown",
   "id": "a82dddf8-4abc-429f-9677-74ca792730a4",
   "metadata": {},
   "source": [
    "United states doesn't have 'Yes' so we'll fix it manually"
   ]
  },
  {
   "cell_type": "code",
   "execution_count": 176,
   "id": "2df70c23-fd9b-4e96-936b-96ac8aba403d",
   "metadata": {},
   "outputs": [],
   "source": [
    "# Fix for the US\n",
    "us_idx = law_df.index[law_df['Region'] == 'United States']\n",
    "\n",
    "law_df.loc[us_idx, 'Yes for PP'] = 1\n",
    "law_df.loc[us_idx, 'Yes for GR'] = 1\n",
    "law_df.loc[us_idx, 'Yes for PP&GR'] = '11'"
   ]
  },
  {
   "cell_type": "markdown",
   "id": "f6e15779-3394-4886-9055-ad3bc4952ba6",
   "metadata": {},
   "source": [
    "There are also some countries with different names, let's normilize them"
   ]
  },
  {
   "cell_type": "code",
   "execution_count": 177,
   "id": "223484b3-f504-4892-970e-d78e6d9f6092",
   "metadata": {},
   "outputs": [],
   "source": [
    "def delete_sq(string):\n",
    "    return string.split('[')[0].split(' (')[0].split(' -')[0].replace('Vietnam ','Vietnam')\n",
    "\n",
    "law_df['Region'] = law_df['Region'].apply(delete_sq)\n",
    "\n",
    "\n",
    "replacements = {\n",
    "        \"DR Congo\": \"Democratic Republic of the Congo\",\n",
    "        \"Congo\": \"Republic of the Congo\",\n",
    "        \"Cape Verde\": \"Cabo Verde\",\n",
    "        \"Swaziland\": \"Eswatini\",\n",
    "        \"St Vincent & Grenadines\": \"Saint Vincent and the Grenadines\",\n",
    "        \"São Tomé and Príncipe\": \"Sao Tome and Principe\",\n",
    "        \"Timor-Leste\": \"East Timor\",\n",
    "        \"Gaza Strip\": \"Palestine\",\n",
    "        \"West Bank\": \"Palestine\",\n",
    "        \"Ivory Coast\": \"Côte d'Ivoire\",\n",
    "        \"Micronesia\": \"Federated States of Micronesia\"\n",
    "    }\n",
    "\n",
    "def normalize_country_name(country_name):    \n",
    "    return replacements.get(country_name, country_name)\n",
    "\n",
    "law_df['Region'] = law_df['Region'].apply(normalize_country_name)\n",
    "\n",
    "law_df = law_df[law_df['Region'] != 'Region']"
   ]
  },
  {
   "cell_type": "markdown",
   "id": "d18ae572-36dd-4971-8c6e-d87951f78fcb",
   "metadata": {},
   "source": [
    "Merge two tables"
   ]
  },
  {
   "cell_type": "code",
   "execution_count": 178,
   "id": "0fb25d8b-30ef-46e4-bbeb-4465414122c0",
   "metadata": {},
   "outputs": [],
   "source": [
    "df = pd.merge(crime_df,law_df,how='inner',left_on='Country',right_on='Region')"
   ]
  },
  {
   "cell_type": "code",
   "execution_count": 179,
   "id": "f869baa1-6777-44b2-acb9-5626c3ebdbff",
   "metadata": {},
   "outputs": [],
   "source": [
    "df = df[['Crime Index','Yes for PP','Yes for GR','Yes for PP&GR']]\n",
    "df.columns = ['Crime_Index','Yes_for_PP','Yes_for_GR','Yes_for_PP&GR']"
   ]
  },
  {
   "cell_type": "markdown",
   "id": "ee1e2423-8fac-4fee-8a7d-0a49741bb6c2",
   "metadata": {},
   "source": [
    "Let's compare their means"
   ]
  },
  {
   "cell_type": "code",
   "execution_count": 180,
   "id": "c151cde2-f40f-4a24-986e-f94254f0f432",
   "metadata": {},
   "outputs": [
    {
     "data": {
      "text/html": [
       "<div>\n",
       "<style scoped>\n",
       "    .dataframe tbody tr th:only-of-type {\n",
       "        vertical-align: middle;\n",
       "    }\n",
       "\n",
       "    .dataframe tbody tr th {\n",
       "        vertical-align: top;\n",
       "    }\n",
       "\n",
       "    .dataframe thead th {\n",
       "        text-align: right;\n",
       "    }\n",
       "</style>\n",
       "<table border=\"1\" class=\"dataframe\">\n",
       "  <thead>\n",
       "    <tr style=\"text-align: right;\">\n",
       "      <th></th>\n",
       "      <th>mean</th>\n",
       "      <th>std</th>\n",
       "    </tr>\n",
       "    <tr>\n",
       "      <th>Yes_for_PP</th>\n",
       "      <th></th>\n",
       "      <th></th>\n",
       "    </tr>\n",
       "  </thead>\n",
       "  <tbody>\n",
       "    <tr>\n",
       "      <th>0</th>\n",
       "      <td>43.683333</td>\n",
       "      <td>15.681743</td>\n",
       "    </tr>\n",
       "    <tr>\n",
       "      <th>1</th>\n",
       "      <td>48.284483</td>\n",
       "      <td>14.245773</td>\n",
       "    </tr>\n",
       "  </tbody>\n",
       "</table>\n",
       "</div>"
      ],
      "text/plain": [
       "                 mean        std\n",
       "Yes_for_PP                      \n",
       "0           43.683333  15.681743\n",
       "1           48.284483  14.245773"
      ]
     },
     "execution_count": 180,
     "metadata": {},
     "output_type": "execute_result"
    }
   ],
   "source": [
    "df.groupby('Yes_for_PP')['Crime_Index'].agg(['mean', 'std'])"
   ]
  },
  {
   "cell_type": "code",
   "execution_count": 181,
   "id": "ffea0677-d3fb-44c6-8623-2f7a945eb009",
   "metadata": {},
   "outputs": [
    {
     "data": {
      "text/html": [
       "<div>\n",
       "<style scoped>\n",
       "    .dataframe tbody tr th:only-of-type {\n",
       "        vertical-align: middle;\n",
       "    }\n",
       "\n",
       "    .dataframe tbody tr th {\n",
       "        vertical-align: top;\n",
       "    }\n",
       "\n",
       "    .dataframe thead th {\n",
       "        text-align: right;\n",
       "    }\n",
       "</style>\n",
       "<table border=\"1\" class=\"dataframe\">\n",
       "  <thead>\n",
       "    <tr style=\"text-align: right;\">\n",
       "      <th></th>\n",
       "      <th>mean</th>\n",
       "      <th>std</th>\n",
       "    </tr>\n",
       "    <tr>\n",
       "      <th>Yes_for_GR</th>\n",
       "      <th></th>\n",
       "      <th></th>\n",
       "    </tr>\n",
       "  </thead>\n",
       "  <tbody>\n",
       "    <tr>\n",
       "      <th>0</th>\n",
       "      <td>48.196825</td>\n",
       "      <td>16.679454</td>\n",
       "    </tr>\n",
       "    <tr>\n",
       "      <th>1</th>\n",
       "      <td>43.462025</td>\n",
       "      <td>13.714472</td>\n",
       "    </tr>\n",
       "  </tbody>\n",
       "</table>\n",
       "</div>"
      ],
      "text/plain": [
       "                 mean        std\n",
       "Yes_for_GR                      \n",
       "0           48.196825  16.679454\n",
       "1           43.462025  13.714472"
      ]
     },
     "execution_count": 181,
     "metadata": {},
     "output_type": "execute_result"
    }
   ],
   "source": [
    "df.groupby('Yes_for_GR')['Crime_Index'].agg(['mean', 'std'])"
   ]
  },
  {
   "cell_type": "code",
   "execution_count": 182,
   "id": "5d3eb9ca-d0f2-463a-bf62-831e7e32e5f2",
   "metadata": {},
   "outputs": [
    {
     "data": {
      "text/html": [
       "<div>\n",
       "<style scoped>\n",
       "    .dataframe tbody tr th:only-of-type {\n",
       "        vertical-align: middle;\n",
       "    }\n",
       "\n",
       "    .dataframe tbody tr th {\n",
       "        vertical-align: top;\n",
       "    }\n",
       "\n",
       "    .dataframe thead th {\n",
       "        text-align: right;\n",
       "    }\n",
       "</style>\n",
       "<table border=\"1\" class=\"dataframe\">\n",
       "  <thead>\n",
       "    <tr style=\"text-align: right;\">\n",
       "      <th></th>\n",
       "      <th>mean</th>\n",
       "      <th>std</th>\n",
       "    </tr>\n",
       "    <tr>\n",
       "      <th>Yes_for_PP&amp;GR</th>\n",
       "      <th></th>\n",
       "      <th></th>\n",
       "    </tr>\n",
       "  </thead>\n",
       "  <tbody>\n",
       "    <tr>\n",
       "      <th>00</th>\n",
       "      <td>48.165000</td>\n",
       "      <td>17.217709</td>\n",
       "    </tr>\n",
       "    <tr>\n",
       "      <th>01</th>\n",
       "      <td>39.609091</td>\n",
       "      <td>13.043573</td>\n",
       "    </tr>\n",
       "    <tr>\n",
       "      <th>10</th>\n",
       "      <td>48.252174</td>\n",
       "      <td>16.077960</td>\n",
       "    </tr>\n",
       "    <tr>\n",
       "      <th>11</th>\n",
       "      <td>48.305714</td>\n",
       "      <td>13.151425</td>\n",
       "    </tr>\n",
       "  </tbody>\n",
       "</table>\n",
       "</div>"
      ],
      "text/plain": [
       "                    mean        std\n",
       "Yes_for_PP&GR                      \n",
       "00             48.165000  17.217709\n",
       "01             39.609091  13.043573\n",
       "10             48.252174  16.077960\n",
       "11             48.305714  13.151425"
      ]
     },
     "execution_count": 182,
     "metadata": {},
     "output_type": "execute_result"
    }
   ],
   "source": [
    "df.groupby('Yes_for_PP&GR')['Crime_Index'].agg(['mean', 'std'])"
   ]
  },
  {
   "cell_type": "markdown",
   "id": "91cdff3c-2ac7-47d3-9e43-586326d911d9",
   "metadata": {},
   "source": [
    "Run OLS Regression model fit"
   ]
  },
  {
   "cell_type": "code",
   "execution_count": 125,
   "id": "44b81ee1-d6e1-4dd1-8617-3d21eb18f2db",
   "metadata": {},
   "outputs": [
    {
     "name": "stdout",
     "output_type": "stream",
     "text": [
      "                            OLS Regression Results                            \n",
      "==============================================================================\n",
      "Dep. Variable:            Crime_Index   R-squared:                       0.022\n",
      "Model:                            OLS   Adj. R-squared:                  0.015\n",
      "Method:                 Least Squares   F-statistic:                     3.180\n",
      "Date:                Tue, 12 Aug 2025   Prob (F-statistic):             0.0767\n",
      "Time:                        11:31:01   Log-Likelihood:                -586.10\n",
      "No. Observations:                 142   AIC:                             1176.\n",
      "Df Residuals:                     140   BIC:                             1182.\n",
      "Df Model:                           1                                         \n",
      "Covariance Type:            nonrobust                                         \n",
      "======================================================================================\n",
      "                         coef    std err          t      P>|t|      [0.025      0.975]\n",
      "--------------------------------------------------------------------------------------\n",
      "Intercept             43.6833      1.649     26.490      0.000      40.423      46.944\n",
      "C(Yes_for_PP)[T.1]     4.6011      2.580      1.783      0.077      -0.500       9.702\n",
      "==============================================================================\n",
      "Omnibus:                        1.371   Durbin-Watson:                   0.041\n",
      "Prob(Omnibus):                  0.504   Jarque-Bera (JB):                1.351\n",
      "Skew:                           0.139   Prob(JB):                        0.509\n",
      "Kurtosis:                       2.612   Cond. No.                         2.46\n",
      "==============================================================================\n",
      "\n",
      "Notes:\n",
      "[1] Standard Errors assume that the covariance matrix of the errors is correctly specified.\n"
     ]
    }
   ],
   "source": [
    "model1 = smf.ols(formula='Crime_Index ~ C(Yes_for_PP)', data=df)\n",
    "results1 = model1.fit()\n",
    "print (results1.summary())"
   ]
  },
  {
   "cell_type": "markdown",
   "id": "1dc1ae8b-81fa-47d3-8dbe-c78f04f58b4d",
   "metadata": {},
   "source": [
    "### Interpretation - Yes for PP"
   ]
  },
  {
   "cell_type": "markdown",
   "id": "812a083b-bfab-434a-8b31-957d30c2a108",
   "metadata": {},
   "source": [
    "With **0.07** confidence, we *can't reject 1 hypothesis* that there is a difference in crime rate for countries with or without guns for personal protection, and we need to look for more variables to estimate the features of crime rate"
   ]
  },
  {
   "cell_type": "code",
   "execution_count": 186,
   "id": "607e9175-0de6-4cd4-84b9-bb3745324f9d",
   "metadata": {},
   "outputs": [
    {
     "name": "stdout",
     "output_type": "stream",
     "text": [
      "                            OLS Regression Results                            \n",
      "==============================================================================\n",
      "Dep. Variable:            Crime_Index   R-squared:                       0.024\n",
      "Model:                            OLS   Adj. R-squared:                  0.017\n",
      "Method:                 Least Squares   F-statistic:                     3.446\n",
      "Date:                Tue, 12 Aug 2025   Prob (F-statistic):             0.0655\n",
      "Time:                        12:10:08   Log-Likelihood:                -585.96\n",
      "No. Observations:                 142   AIC:                             1176.\n",
      "Df Residuals:                     140   BIC:                             1182.\n",
      "Df Model:                           1                                         \n",
      "Covariance Type:            nonrobust                                         \n",
      "======================================================================================\n",
      "                         coef    std err          t      P>|t|      [0.025      0.975]\n",
      "--------------------------------------------------------------------------------------\n",
      "Intercept             48.1968      1.902     25.335      0.000      44.436      51.958\n",
      "C(Yes_for_GR)[T.1]    -4.7348      2.550     -1.856      0.065      -9.777       0.308\n",
      "==============================================================================\n",
      "Omnibus:                        3.097   Durbin-Watson:                   0.045\n",
      "Prob(Omnibus):                  0.213   Jarque-Bera (JB):                1.998\n",
      "Skew:                           0.005   Prob(JB):                        0.368\n",
      "Kurtosis:                       2.419   Cond. No.                         2.77\n",
      "==============================================================================\n",
      "\n",
      "Notes:\n",
      "[1] Standard Errors assume that the covariance matrix of the errors is correctly specified.\n"
     ]
    }
   ],
   "source": [
    "model2 = smf.ols(formula='Crime_Index ~ C(Yes_for_GR)', data=df)\n",
    "results2 = model2.fit()\n",
    "print (results2.summary())"
   ]
  },
  {
   "cell_type": "markdown",
   "id": "6cab1429-5a00-4752-bc8a-f40535db625f",
   "metadata": {},
   "source": [
    "### Interpretation - Yes for GR"
   ]
  },
  {
   "cell_type": "markdown",
   "id": "4d1e9477-2d61-4441-be43-da557e6dd539",
   "metadata": {},
   "source": [
    "With **0.07** confidence, we *can't reject 1 hypothesis* that there is a difference in crime rate for countries with or without guns for good reason, and we need to look for more variables to estimate the features of crime rate"
   ]
  },
  {
   "cell_type": "markdown",
   "id": "534f9346-c0af-4fac-b6a7-422cf3eb3e11",
   "metadata": {},
   "source": [
    "Run Tukey test"
   ]
  },
  {
   "cell_type": "code",
   "execution_count": 191,
   "id": "e3e6580d-3e14-4481-be59-d55a8debda2d",
   "metadata": {},
   "outputs": [
    {
     "name": "stdout",
     "output_type": "stream",
     "text": [
      " Multiple Comparison of Means - Tukey HSD, FWER=0.05 \n",
      "=====================================================\n",
      "group1 group2 meandiff p-adj   lower    upper  reject\n",
      "-----------------------------------------------------\n",
      "    00     01  -8.5559 0.0456 -16.9946 -0.1172   True\n",
      "    00     10   0.0872    1.0 -10.0209 10.1953  False\n",
      "    00     11   0.1407    1.0  -8.7998  9.0812  False\n",
      "    01     10   8.6431 0.1122  -1.2959  18.582  False\n",
      "    01     11   8.6966  0.052  -0.0521 17.4454  False\n",
      "    10     11   0.0535    1.0 -10.3148 10.4219  False\n",
      "-----------------------------------------------------\n"
     ]
    }
   ],
   "source": [
    "mc1 = multi.MultiComparison(df['Crime_Index'], df['Yes_for_PP&GR'])\n",
    "res1 = mc1.tukeyhsd()\n",
    "print(res1.summary())"
   ]
  },
  {
   "cell_type": "markdown",
   "id": "8a4d58f4-270d-4240-a10e-1f7dc96f8893",
   "metadata": {},
   "source": [
    "### Interpretation - Yes for PP&GR"
   ]
  },
  {
   "cell_type": "markdown",
   "id": "d369cb3a-142e-4a2c-ade4-b5e8d88b9239",
   "metadata": {},
   "source": [
    "We came to an interesting conclusion. Although “Yes” for Personal Protection and “Yes” for Good Reason do not affect the crime rate, there is a statistically significant difference when there is “Yes” for Personal Protection but “No” for Good Reason!"
   ]
  },
  {
   "cell_type": "markdown",
   "id": "3a97dd0e-1d44-40d0-9924-850d3f8529e4",
   "metadata": {},
   "source": [
    "## Important Note"
   ]
  },
  {
   "cell_type": "markdown",
   "id": "b19064d3-ec43-45df-b4e8-0ffba0ed070b",
   "metadata": {},
   "source": [
    "The original datasets were not properly wrangled, and there are significant differences in the interpretation of gun laws. This notebook is intended for exercise purposes only and not for scientific research."
   ]
  }
 ],
 "metadata": {
  "kernelspec": {
   "display_name": "Python [conda env:base] *",
   "language": "python",
   "name": "conda-base-py"
  },
  "language_info": {
   "codemirror_mode": {
    "name": "ipython",
    "version": 3
   },
   "file_extension": ".py",
   "mimetype": "text/x-python",
   "name": "python",
   "nbconvert_exporter": "python",
   "pygments_lexer": "ipython3",
   "version": "3.12.7"
  }
 },
 "nbformat": 4,
 "nbformat_minor": 5
}
